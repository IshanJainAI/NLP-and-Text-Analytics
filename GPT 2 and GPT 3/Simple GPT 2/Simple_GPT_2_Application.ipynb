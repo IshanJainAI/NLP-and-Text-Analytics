{
  "cells": [
    {
      "cell_type": "code",
      "execution_count": 1,
      "metadata": {
        "id": "qjyy7b06dolv"
      },
      "outputs": [],
      "source": [
        "# from google.colab import drive\n",
        "# drive.mount('/gdrive')"
      ]
    },
    {
      "cell_type": "code",
      "execution_count": 2,
      "metadata": {
        "id": "Jg-naszZdtN1"
      },
      "outputs": [],
      "source": [
        "# cd ../gdrive/My Drive/Colab Notebooks/_NLP/GPT-2"
      ]
    },
    {
      "cell_type": "markdown",
      "metadata": {
        "id": "ohmeptNk4Mms"
      },
      "source": [
        "Reference - [Colab](https://colab.research.google.com/github/ilopezfr/gpt-2/blob/master/gpt-2-playground_.ipynb#scrollTo=tI-HVDbQS9dF) "
      ]
    },
    {
      "cell_type": "code",
      "execution_count": 3,
      "metadata": {
        "colab": {
          "base_uri": "https://localhost:8080/"
        },
        "id": "Mv9X--HadtTO",
        "outputId": "6e81d491-03f6-42f0-97ed-3513c7980be8"
      },
      "outputs": [
        {
          "output_type": "stream",
          "name": "stdout",
          "text": [
            "TensorFlow 1.x selected.\n"
          ]
        }
      ],
      "source": [
        "%tensorflow_version 1.x\n",
        "\n",
        "!pip install -q gpt-2-simple"
      ]
    },
    {
      "cell_type": "code",
      "execution_count": 4,
      "metadata": {
        "id": "du_DZmjndtVy"
      },
      "outputs": [],
      "source": [
        "# importing simple gpt\n",
        "import gpt_2_simple as gpt2\n",
        "from datetime import datetime\n",
        "from google.colab import files"
      ]
    },
    {
      "cell_type": "code",
      "execution_count": 5,
      "metadata": {
        "colab": {
          "base_uri": "https://localhost:8080/"
        },
        "id": "UDi6BVztdtYU",
        "outputId": "b386a00a-ce4d-4fef-a892-2734d8c24cfa"
      },
      "outputs": [
        {
          "output_type": "stream",
          "name": "stdout",
          "text": [
            "NVIDIA-SMI has failed because it couldn't communicate with the NVIDIA driver. Make sure that the latest NVIDIA driver is installed and running.\n",
            "\n"
          ]
        }
      ],
      "source": [
        "# which GPU is running?\n",
        "!nvidia-smi"
      ]
    },
    {
      "cell_type": "markdown",
      "metadata": {
        "id": "x_gjkfVLvz2z"
      },
      "source": [
        "## Downloading GPT-2\n",
        "If you're retraining a model on new text, you need to download the GPT-2 model first.\n",
        "\n",
        "There are three released sizes of GPT-2:\n",
        "\n",
        "1. 124M (default): the \"small\" model, 500MB on disk.\n",
        "2. 355M: the \"medium\" model, 1.5GB on disk.\n",
        "3. 774M: the \"large\" model, cannot currently be finetuned with Colaboratory but can be used to generate text from the pretrained model (see later in Notebook)\n",
        "4. 1558M: the \"extra large\", true model. Will not work if a K80 GPU is attached to the notebook. (like 774M, it cannot be finetuned).\n",
        "\n",
        "\n",
        "---\n",
        "\n",
        "\n",
        "\n",
        "Larger models have more knowledge, but take longer to finetune and longer to generate text. You can specify which base model to use by changing model_name in the cells below.\n",
        "\n",
        "The next cell downloads it from Google Cloud Storage and saves it in the Colaboratory VM at /models/<model_name>.\n",
        "\n",
        "This model isn't permanently saved in the Colaboratory VM; you'll have to redownload it if you want to retrain it at a later time."
      ]
    },
    {
      "cell_type": "code",
      "execution_count": 6,
      "metadata": {
        "colab": {
          "base_uri": "https://localhost:8080/"
        },
        "id": "hd-dpDfGdtap",
        "outputId": "f985ef89-c159-4ea0-8d3b-f91747366664"
      },
      "outputs": [
        {
          "output_type": "stream",
          "name": "stderr",
          "text": [
            "Fetching checkpoint: 1.05Mit [00:00, 386Mit/s]                                                      \n",
            "Fetching encoder.json: 1.05Mit [00:00, 4.74Mit/s]\n",
            "Fetching hparams.json: 1.05Mit [00:00, 361Mit/s]                                                    \n",
            "Fetching model.ckpt.data-00000-of-00001: 498Mit [00:10, 47.0Mit/s]                                  \n",
            "Fetching model.ckpt.index: 1.05Mit [00:00, 404Mit/s]                                                \n",
            "Fetching model.ckpt.meta: 1.05Mit [00:00, 9.83Mit/s]\n",
            "Fetching vocab.bpe: 1.05Mit [00:00, 6.01Mit/s]\n"
          ]
        }
      ],
      "source": [
        "# let's download small model. \n",
        "gpt2.download_gpt2(model_name=\"124M\")"
      ]
    },
    {
      "cell_type": "code",
      "execution_count": 7,
      "metadata": {
        "id": "dJo5yl1Ddtds"
      },
      "outputs": [],
      "source": [
        "file_name = \"mit_shakespeare.txt\"\n",
        "# /mit_shakespeare.txt"
      ]
    },
    {
      "cell_type": "code",
      "execution_count": 8,
      "metadata": {
        "colab": {
          "base_uri": "https://localhost:8080/"
        },
        "id": "uXaYKyCl1qlz",
        "outputId": "ce25ed9a-c958-42a3-9b28-a9c290e37b61"
      },
      "outputs": [
        {
          "output_type": "stream",
          "name": "stdout",
          "text": [
            "Drive already mounted at /content/drive; to attempt to forcibly remount, call drive.mount(\"/content/drive\", force_remount=True).\n"
          ]
        }
      ],
      "source": [
        "gpt2.mount_gdrive()\n",
        "# /content/mit_shakespeare.txt"
      ]
    },
    {
      "cell_type": "code",
      "execution_count": 9,
      "metadata": {
        "colab": {
          "base_uri": "https://localhost:8080/"
        },
        "id": "anS0k7tX3Izv",
        "outputId": "80670d13-3354-4153-adf5-cf58b413cc41"
      },
      "outputs": [
        {
          "output_type": "stream",
          "name": "stdout",
          "text": [
            "/content\n"
          ]
        }
      ],
      "source": [
        "!pwd"
      ]
    },
    {
      "cell_type": "code",
      "execution_count": 10,
      "metadata": {
        "id": "IkogDjgUdtie"
      },
      "outputs": [],
      "source": [
        "gpt2.copy_file_from_gdrive(file_name)"
      ]
    },
    {
      "cell_type": "code",
      "execution_count": 11,
      "metadata": {
        "colab": {
          "base_uri": "https://localhost:8080/"
        },
        "id": "7Nir86SBdtkt",
        "outputId": "be6c8997-8efc-4b5e-801e-551aebb07b03"
      },
      "outputs": [
        {
          "output_type": "stream",
          "name": "stdout",
          "text": [
            "Loading checkpoint models/124M/model.ckpt\n",
            "INFO:tensorflow:Restoring parameters from models/124M/model.ckpt\n",
            "Loading dataset...\n"
          ]
        },
        {
          "output_type": "stream",
          "name": "stderr",
          "text": [
            "100%|██████████| 1/1 [00:08<00:00,  8.30s/it]\n"
          ]
        },
        {
          "output_type": "stream",
          "name": "stdout",
          "text": [
            "dataset has 1850440 tokens\n",
            "Training...\n",
            "[1 | 25.41] loss=3.35 avg=3.35\n",
            "[2 | 45.84] loss=3.16 avg=3.26\n",
            "======== SAMPLE 1 ========\n",
            "  in `n' instead of `e.' And here you see the effect, though, that the letter E is not used in this context. Here it is a word which can be said to imply a certain sense, but which is not meant by a special meaning.\n",
            "\n",
            "\n",
            "There is a different way of dealing with this. In the Greek context, we have the letter `O' and the letters 'E' and 'i.' As in the Greek, we find out the form of these letters in different situations. And here you see one sense, too, which is not the word for `e.' It is the word of the word 'O.' But I have already seen that this is not the right thing to do; what is to be done, however, needs to be done. And this is what I did. As I have said it in the Greek, so I do. This word is the word for this.\n",
            "\n",
            "The Greek word for 'e.' This word in this meaning. This word in this form.\n",
            "\n",
            "The Greek word for 'a.' This being the form that the word is in. This was the form for this.\n",
            "\n",
            "The Greek word for 'i.' This being the form that the word is in. This was the form for this.\n",
            "\n",
            "The Greek word to be done. It was the word, in the Greek, to do.\n",
            "\n",
            "It is not a case of the Greek to do. It was not the case to do.\n",
            "\n",
            "\n",
            "The Greek word for 'i.' We did. If we had only known this word, of course, it would have never been spoken and the whole thing would not have been done. But the meaning, as it is in this sense, is that of the word. The Greek word is as well of the form that it is in, that it is given as the means to do.\n",
            "\n",
            "In reading this, you have heard the fact for the first time in the Greek language. The word for 'i,' in this sense, is not the letter E. The Greek word for this, in this sense, is not the Greek word E. The word of the Greek word is not the word of the Greek word.\n",
            "\n",
            "This is the Greek word 'to do' - the Greek form of this word. For the same reason 'to do,' 'then,' 'then,' the Greek word 'to do,' is not 'so,' 'for,' in this sense.\n",
            "\n",
            "There is a difference. The former 'to do,' 'then,' being given as the means for do, the other 'to do,' 'then,' 'then,' as the end of the sentence, is 'not,' as it was in the Greek; and this is the meaning of the word E. But the meaning of 'to do' in the Greek is that of 'to do,' in the first place; and 'then,' as to which was given the means to do. And it is this 'to do' which is spoken by the Greek language in this sense.\n",
            "\n",
            "The Greek word for 'i.'\n",
            "\n",
            "\n",
            "It is, therefore, that the word to do is given by an object to be taken out of the word which it was to be taken out of. And if there are no other words of the Greek meaning for 'to do,' the meaning of 'to do' in this sense is 'to do.'\n",
            "\n",
            "In the Greek, the word is the Greek form of the Greek word for the word 'to do' in this sense. In the Greek, the words are not 'to do' themselves; they are used in the meaning as to have been given that word. But there are no other Greek, words, or expressions that can be used in this Greek. Only two such words - the Greek- to do, and the Greek- to put out, are 'to do' in the Greek sense. To do is done, in Greek, by the Greek- word for 'to do' in which the Greek-word itself belongs. To put out is done in Greek, by the Greek- word for 'to put out.' The 'to put out, to put out' is used here as the 'to put out,' to do. It is not in this sense which 'to put out' should be read. If 'to put out' were the Greek form, and 'to put out,' if 'to do' were the Greek form, then 'to put out,' to put out, is an 'to force.'\n",
            "\n",
            "\n",
            "The Greek words are used by these Greek- words to have been given 'to do,' and 'to put out,' in this sense. They are used by a Greek- Greek word and Greek- Greek- words. To put out is to force; to force is to force. To force is to force.\n",
            "\n",
            "\n",
            "To put 'to put out' is to force; to force is to force. To put out is to force; to force is to\n",
            "\n",
            "[3 | 332.18] loss=3.61 avg=3.37\n",
            "[4 | 353.21] loss=3.24 avg=3.34\n",
            "======== SAMPLE 1 ========\n",
            "OL.\n",
            "\n",
            "What is the most important word that I can say about the Bible?\n",
            "\n",
            "The words of the Bible were written in ancient times, when it was written that they would be used in common terms without any distinction of the kind. We know what the most important words are not in the Bible. We know not what the most important words are not in the dictionary.\n",
            "\n",
            "The Bible was written in ancient times. The same word which says \"I have read,\" says \"I have read this book\"; and the same word, which says \"I believe in God,\" says \"I believe in God.\"\n",
            "\n",
            "If we have known so little, why should we never know how the words of the Bible are used in their common way?\n",
            "\n",
            "The Bible was written as an ancient book, from which we can speak only in two respects. We know that the word of God, being written before God, is in the book, which was intended for the reading of the Scriptures. For the same reason we know that God says that he has read the Bible, and that, if he were to write and translate it, then he would tell us what we would know of it.\n",
            "\n",
            "We know what the words of the Bible are not in the dictionary. We know not what the most important words are not in the dictionary, but what we can learn of them.\n",
            "\n",
            "So, a book of books is a book of words. What we can learn of their words only through their common use in common terms, would mean nothing if it were written so by the same author. The whole of our knowledge of the Bible lies wholly in books. We know not what their common use is (as we know with regard to words which are common as well as common), but what we can learn from them.\n",
            "\n",
            "We know all the English letters of each of our books by reference to these common words.\n",
            "\n",
            "We know in which book the letter \"G\" is used; and in which book there is a \"P\" written in his place. This is what we understand the word of God to mean in his book as it refers to Scripture:\n",
            "\n",
            "This is what it says in the book \"G.\" That was written in a book of words. Let a man read the book of words.\n",
            "\n",
            "That was written by the writer of God.\n",
            "\n",
            "When I, a little boy, have understood all the words of the book of words, in which the author of the Bible tells us, \" I have read the book,\" how can I read the word \"G?\"\n",
            "\n",
            "What is it. What is the book; but is not the author of the book. That is that the book. The book in which a man has not read the book of words. No one can read a book of words. But the book in which it is written which he has read.\n",
            "\n",
            "We may say that we know nothing, or that we are ignorant of many things.\n",
            "\n",
            "The book of words is only the book of common terms, or the book of words for the common words of the books, which we hold, as we held.\n",
            "\n",
            "The book; the book not the book; the book in which we have not understood the book; the book without the book. I am speaking of the book whose title we know, as if the book were written with common uses, by means of a writer whose mind was entirely in the works of a author's mind. The book is not the book, but the book, for the common words which the author of the Bible has in common with him. The book is not the book; the book in which we have not understood the book; the book in which we have not read. The book is the book. The book is not the book; but the book of common terms, which is written by a man who has not read the book. The book is the book.\n",
            "\n",
            "The book, the book in which we have not read the book, is what, as far as we know it, was written by the original author. And now we know that these simple words of the alphabet, which the author of the Bible has in common with him, have in common with his author; for there is a common use for the number of letters written by him when he puts them at their place in the book of common terms.\n",
            "\n",
            "We should read the word of the Bible without any confusion at all. The most important words, we must be conscious, are not those of the book, or that of the book. If they are not called the most important words of the alphabet, it may indeed be that you were ignorant of them. We are as sure as not that a book written with common uses was written by the same writer.\n",
            "\n",
            "I see, therefore, the common use of every kind of common words of the book of words in the Bible.\n",
            "\n",
            "Is this the very reason that it is so important that they have not been used so long, but were\n",
            "\n",
            "[5 | 445.53] loss=3.20 avg=3.31\n",
            "Saving checkpoint/run1/model-5\n",
            "INFO:tensorflow:checkpoint/run1/model-5.index\n",
            "INFO:tensorflow:0\n",
            "INFO:tensorflow:checkpoint/run1/model-5.meta\n",
            "INFO:tensorflow:3500\n",
            "INFO:tensorflow:checkpoint/run1/model-5.data-00000-of-00001\n",
            "INFO:tensorflow:501300\n",
            "[6 | 460.82] loss=3.14 avg=3.28\n",
            "======== SAMPLE 1 ========\n",
            " - ' The 'C' of this word is a sign, meaning 'The sun of the world', or, in the English language, 'The sun of world', or 'The sun of the world.' This word is then used, and in general its meaning is:\n",
            "'C'\n",
            "--The sun of the world\n",
            "The sun of the world, and the air of earth\n",
            "\n",
            "The expression 'c' is therefore a sign, the 'sun of the world' is a sign, and in general its meaning is:\n",
            "'C'\n",
            "--The sun of the world\n",
            "The sun of the world, and the wind-tide of heaven\n",
            "\n",
            "The expression 'o' is a sign, the 's' in English and 'o' in English and 'o' in French makes the same use to us; so that these two words have become the sign of the sun to us. The sun of the world, and the air of earth and heaven.\n",
            "\n",
            "What is used in this sense is 'The sun of the land' and 'The sun of the sea.' When 'c' is made in English, and when it is used in French, it becomes the sign of the land, and 'The land' is a sign. The sun of the country, and the ocean. Thus the sign of the land.\n",
            "This sign is the word of earth and water, and in general its meaning is:\n",
            "\" The land at which you live.\"\n",
            "\n",
            "The words 'water' (of the earth's) mean the waters in space and time, 'water, water, water' (of the sea's) in space and time, and 'the land, the sea, the wind-time' (for water).\n",
            "\n",
            "The sign \"the land, the land, the wind-tide of heaven\"- or, \"The land, the sea, and the wind-time,\" makes the same use to us; so that, in particular, this word and the meaning of this word become the sign of the land. And this sign, in short, is the way of life in the earth and air. In fact, this word is the way of man, and in this same way our nature is the way of man. But as to this word, so that we are here, as also the place we live, by whose name they are here we follow.\n",
            "I take a place here.\n",
            "The place I live, from which I move, and thence with the hand of the hand of heaven, is that which I have put before me; my place and myself are the place for the mind, and for the mind for the mind. And, in this place, and in this place, I speak. I speak; I speak; I speak. And, so that I speak, we live, or I die, and so that I speak, we die.\n",
            "The place of this place is the state, and this state is so great that it cannot last.\n",
            "\n",
            "A certain sort of speech, and a certain kind of speech, by which we are well heard, and so well spoken, that the mind, and hence the mind, and hence the mind, have a place. This place I live, from which I move, and thence with the hand of the hand of heaven, is that which I have put before me, and hence I speak. I speak; I speak; I speak. And, so that I speak, we live, or we die, and so that we speak, we die.\n",
            "The place for this place is the place for the mind of the mind. This place I live, from which I move, and thence with the hand of heaven, is that which I have put before me, and hence I speak. I speak; I speak; I speak; I speak. And that I speak, we live, or we die, and so that we speak, we die.\n",
            "I take a place here.\n",
            "So there were two things that the language of the earth had used to make me speak; the language which had held the whole earth in his hands, and the language which had kept the whole earth with it; and the language of the air. This, or the air of the air which, in general, is the air in which men live, and in which men live, is this 'air of the life', that in which is air 'the life'. The air of the air of the air of the air in which men live. And the air of the air of the air in which they live.\n",
            "Now this air is called \"water\"; and the air is called \"water, the air of the air in which men live.\" And, so this air is called \" the world; and the world are the world; \" which, in general, is the world; \" which is called \" water, the air of the air in which men live in their beds. The air is called \" water, the air of the air in which men live in\n",
            "\n",
            "[7 | 548.64] loss=3.10 avg=3.26\n",
            "[8 | 562.46] loss=2.99 avg=3.22\n",
            "======== SAMPLE 1 ========\n",
            " broken that which is left, is still the same; but the one which is left is no longer the same. For the first, by some accident, the right hand is not the same. This, too, is the meaning of the first, that in the first, there is a good side behind the right; but in its first place, there is only a great side.\n",
            "\n",
            "Chapter XXVI. The Proclamation of this War.\n",
            "\n",
            "So after the victory of the French revolution under the command of King Henry VIII., which destroyed Italy, it was in a great measure then understood that this military doctrine should be maintained as in the most perfect state. The second, where the French had the same spirit as in the first, he had to be said to be the enemy of the world. In a sense this was a contradiction, and a contradiction was the means of the war. The first, with which he was engaged, had, of necessity, a general and general command. This general command, indeed, was called \"Treaty of the General Council\"; but the general command itself was called; the general command, indeed, was called \"Treaty of the General Council.\"\n",
            "\n",
            "This general and general command, in their perfection, would be the only point in the history of the war.\n",
            "\n",
            "So this was an imputation that it was impossible that the French could be victorious without this. But it was then understood that as by his means the general and general command was to be opposed, by any means, to the same end the French ought to be the most powerful enemy, so, in the general and general command, he was the best enemy. The second, but more, was the general command. This general command, too, was made up of two parts, either with the army or troops, and was therefore the object of the war. The general and general command, then, were to be a military instrument; but the army, then, was the enemy of the world.\n",
            "\n",
            "The whole matter of our case, therefore, depended on this general and general command. Now, in our case we had no means to make military alliances; but the enemy's army was not the same in itself as in the second. And by this a war is not possible; for by general and general command, it never ceases to be the battle of the world.\n",
            "\n",
            "But what were the reasons that we had for so great war, that in the general command, the French army was the enemy?\n",
            "\n",
            "It is true that, with their strength, we had no means to make military alliances; but we only had the means of making them. The general command was, in the first place, an instrument. This general and general command had the whole of their power, but none of the soldiers. In all our cases, the French army was the enemy of the world, and our army was the enemy of the world. This general and general command was no more a general command than a general command. And all such a command was made by general and general command. And now, with the same purpose, it had for its object a general command, which for the purpose of making war was made by general and general command.\n",
            "\n",
            "And yet, since the French soldiers had been so much more victorious under the general and general command than they under the general and general command, and their army, on the contrary, had by so far, in the general and general command, been defeated, the general and general command was to have been the general and general command. This was done at once, by general and general command; the latter by the whole army.\n",
            "\n",
            "A general and general command, therefore, had an instrument in the army. This, moreover, was the point at which the general command was to have been made, and he was the only general.\n",
            "\n",
            "It should seem at this time that the enemy's army was not the same in itself as in the second. We were told of their nature; it was a matter of no interest, though the general command was to be the enemy's; they could not, for there was nothing in it that would render us as well a soldier. But this was the general command; and so, in the general and general command, there is that which is in us.\n",
            "\n",
            "Chapter XXV. The French Victors:\n",
            "\n",
            "At the time we had to face the other armies, and to fight it out against the enemy, we did not know the general command, a very important point. For in war, the general and general command is the object of the war; the general command, if you are of military mind, is of military mind.\n",
            "\n",
            "When we had so much to do, our general and general command were to be nothing but military instruments. The general command was the instrument of the war; it was the instrument of the war; the instrument of the war; the instrument of the war; the instrument of the war; the instrument of the war\n",
            "\n",
            "[9 | 649.69] loss=3.44 avg=3.25\n",
            "[10 | 663.31] loss=3.07 avg=3.23\n",
            "Saving checkpoint/run1/model-10\n",
            "WARNING:tensorflow:From /usr/local/lib/python3.7/dist-packages/tensorflow/python/training/saver.py:1068: remove_checkpoint (from tensorflow.python.training.checkpoint_management) is deprecated and will be removed in a future version.\n",
            "Instructions for updating:\n",
            "Use standard file APIs to delete files with this prefix.\n",
            "INFO:tensorflow:checkpoint/run1/model-10.data-00000-of-00001\n",
            "INFO:tensorflow:497800\n",
            "INFO:tensorflow:checkpoint/run1/model-10.meta\n",
            "INFO:tensorflow:501300\n",
            "INFO:tensorflow:checkpoint/run1/model-10.index\n",
            "INFO:tensorflow:501300\n"
          ]
        }
      ],
      "source": [
        "sess = gpt2.start_tf_sess()\n",
        "\n",
        "gpt2.finetune(sess,\n",
        "              dataset=file_name,\n",
        "              model_name='124M',\n",
        "              steps=10,\n",
        "              restore_from='fresh',\n",
        "              run_name='run1',\n",
        "              print_every=1,\n",
        "              sample_every=2,\n",
        "              save_every=5\n",
        "              )"
      ]
    },
    {
      "cell_type": "code",
      "execution_count": 12,
      "metadata": {
        "id": "YwACkXrKdtnc"
      },
      "outputs": [],
      "source": [
        "gpt2.copy_checkpoint_to_gdrive(run_name='run1')"
      ]
    },
    {
      "cell_type": "code",
      "execution_count": 13,
      "metadata": {
        "id": "XZ5VZpz0dtqY",
        "colab": {
          "base_uri": "https://localhost:8080/"
        },
        "outputId": "fe116cd0-8d35-4167-e71a-1b6aeb3150d6"
      },
      "outputs": [
        {
          "output_type": "stream",
          "name": "stdout",
          "text": [
            "I. Introduction\n",
            "\n",
            "The reason I am using this article is because I am busy writing my book, The Art of War. This book is a collection of essays I find useful in every facet of the war effort. I took a quick break from writing about the war, and I left it to other writers to provide more advice.\n",
            "\n",
            "II. The Art of War\n",
            "\n",
            "The duration of the war is one of the most important aspects of the war effort. The earliest and most important skirmishes, which I am about to review, are the ones that I won in the last book.\n",
            "\n",
            "The earliest skirmish was fought in Spain on 28 December, 1785, and was followed by much of Europe, the only target being France. The second battle was fought in France on 11 May, 1786, and was followed by the most complete of the first three campaigns. The latter was a battle fought in the East, and was thus the most important skirmish of the war.\n",
            "\n",
            "The second battle was fought in the West on 14 January, 1787, and was followed by the most complete of the first three campaigns.\n",
            "\n",
            "III. The Art of War\n",
            "\n",
            "The art of war is important in every war; and it is not the art of war that makes a war difficult. It is the art of war that is most successful.\n",
            "\n",
            "The art of war is accomplished with a great deal of skill and diligence. It is accomplished when the enemy is in full control of his strength, and when the enemy is in full control of his weakness.\n",
            "\n",
            "The art of war is accomplished by a great deal of skill and diligence. It is accomplished when the enemy is in full control of his strength, and when the enemy is in full control of his weakness.\n",
            "\n",
            "The art of war is accomplished by great skill and diligence. It is accomplished when the enemy is in full control of his strength, and when the enemy is in full control of his weakness.\n",
            "\n",
            "The art of war is accomplished by great skill and diligence. It is accomplished when the enemy is in full control of his strength, and when the enemy is in full control of his weakness.\n",
            "\n",
            "The art of war is accomplished by great skill and diligence. It is accomplished when the enemy is in full control of his strength, and when the enemy is in full control of his weakness.\n",
            "\n",
            "The art of war is accomplished by great skill and diligence. It is accomplished when the enemy is in full control of his strength, and when the enemy is in full control of his weakness.\n",
            "\n",
            "The art of war is accomplished by great skill and diligence. It is accomplished when the enemy is in full control of his strength, and when the enemy is in full control of his weakness.\n",
            "\n",
            "The art of war is accomplished by great skill and diligence. It is accomplished when the enemy is in full control of his strength, and when the enemy is in full control of his weakness.\n",
            "\n",
            "The art of war is accomplished by great skill and diligence. It is accomplished when the enemy is in full control of his strength, and when the enemy is in full control of his weakness.\n",
            "\n",
            "The art of war is accomplished by great skill and diligence. It is accomplished when the enemy is in full control of his strength, and when the enemy is in full control of his weakness.\n",
            "\n",
            "The art of war is accomplished by great skill and diligence. It is accomplished when the enemy is in full control of his strength, and when the enemy is in full control of his weakness.\n",
            "\n",
            "The art of war is accomplished by great skill and diligence. It is accomplished when the enemy is in full control of his strength, and when the enemy is in full control of his weakness.\n",
            "\n",
            "The art of war is accomplished by great skill and diligence. It is accomplished when the enemy is in full control of his strength, and when the enemy is in full control of his weakness.\n",
            "\n",
            "The art of war is accomplished by great skill and diligence. It is accomplished when the enemy is in full control of his strength, and when the enemy is in full control of his weakness.\n",
            "\n",
            "The art of war is accomplished by great skill and diligence. It is accomplished when the enemy is in full control of his strength, and when the enemy is in full control of his weakness.\n",
            "\n",
            "The art of war is accomplished by great skill and diligence. It is accomplished when the enemy is in full control of his strength, and when the enemy is in full control of his weakness.\n",
            "\n",
            "The art of war is accomplished by great skill and diligence. It is accomplished when the enemy is in full control of his strength, and when the enemy is in full control of his weakness.\n",
            "\n",
            "The art of war is accomplished by great skill and diligence. It is accomplished when the enemy is in full control of his strength, and when the enemy is in full control of his weakness.\n",
            "\n",
            "The art of war is accomplished by great skill and diligence. It is accomplished when the enemy is in\n"
          ]
        }
      ],
      "source": [
        "gpt2.generate(sess, run_name='run1')"
      ]
    },
    {
      "cell_type": "code",
      "execution_count": 14,
      "metadata": {
        "id": "l6xSYXfhdtsv",
        "colab": {
          "base_uri": "https://localhost:8080/"
        },
        "outputId": "ab3a96a7-0b7c-465d-ee23-77201d29d417"
      },
      "outputs": [
        {
          "output_type": "stream",
          "name": "stdout",
          "text": [
            "LORDY, J. G. (1947). The History of the Church, in the Church in the World, by James D. St. Joseph. Cambridge, Massachusetts: Cambridge University Press, 1999.\n",
            "\n",
            "JOHN S. CERTIS, J. L. (1947). The History of the Church, in the Church in the World, by James D. St. Joseph. Cambridge, Massachusetts: Cambridge University Press, 2000.\n",
            "\n",
            "LORDY, J. G. (1947). The History of the Church, in the Church in the World, by James D. St. Joseph. Cambridge, Massachusetts: Cambridge University Press, 2000.\n",
            "\n",
            "LORDY, J. G. (1947). The History of the Church, in the Church in the World, by James D. St. Joseph. Cambridge, Massachusetts: Cambridge University Press, 2000.\n",
            "\n",
            "LORDY, J. G. (1947). The History of the Church, in the Church in the World, by James D. St. Joseph. Cambridge, Massachusetts: Cambridge University Press, 2000.\n",
            "\n",
            "COSBY, J. A. (1946). The History of the Church, in the Church in the\n",
            "====================\n",
            "LORD, that he knows not him, and.\n",
            "\n",
            "SANDERS, that he hath not but thy hand to curse thee, and that thou art not under thy seat in the office of God's law.\n",
            "\n",
            "TUSAWA, that he hath not but his hand to curse thee, and that thou art not under thy seat in the office of God's law.\n",
            "\n",
            "TUSAWA, that he hath not his hand to curse thee, and that thou art not under thy seat in the office of God's law.\n",
            "\n",
            "HURTINGTON, that he hath not yet \"the hand to curse thee,\" nor hath the hand to curse thee.\n",
            "\n",
            "TUSAWA, that he hath not \"the hand to curse thee,\" nor hath the hand to curse thee.\n",
            "\n",
            "HURTINGTON, that he hath not \"the hand to curse thee,\" nor hath the hand to curse thee.\n",
            "\n",
            "HURTINGTON, that he hath not \"the hand to curse thee,\" nor hath the hand to curse thee.\n",
            "\n",
            "HURTINGTON, that he hath not \"the hand to curse thee,\" nor hath the hand to curse thee.\n",
            "\n",
            "HURTINGTON, that he hath\n",
            "====================\n",
            "LORD LUCIE LUCIE LUCIE LUCIE LUCIE LUCIE LUCIE LUCIE LUCIE LUCIE LUCIE LUCIE LUCIE LUCIE LUCIE LUCIE LUCIE LUCIE LUCIE LUCIE LUCIE LUCIE LUCIE LUCIE LUCIE LUCIE LUCIE LUCIE LUCIE LUCIE LUCIE LUCIE LUCIE LUCIE LUCIE LUCIE LUCIE LUCIE LUCIE LUCIE LUCIE LUCIE LUCIE LUCIE LUCIE LUCIE LUCIE LUCIE LUCIE LUCIE LUCIE LUCIE LUCIE LUCIE LUCIE LUCIE LUCIE LUCIE LUCIE LUCIE LUCIE LUCIE LUCIE LUCIE LUCIE LUCIE LUCIE LUCIE LUCIE LUCIE LUCIE LUCIE LUCIE LUCIE LUCIE LUCIE LUCIE LUCIE LUCIE LUCIE LUCIE LUCIE LUCIE L\n",
            "====================\n",
            "LORD: In my eyes, you said I should marry you.\n",
            "\n",
            "CROWD: N-no, you did marry me.\n",
            "\n",
            "CROWD: N-no, you did marry me!\n",
            "\n",
            "CROWD: N-no, you did marry me!\n",
            "\n",
            "CROWD: N-no, you did marry me!\n",
            "\n",
            "CROWD: N-no, you did marry me!\n",
            "\n",
            "CROWD: N-no, you did marry me!\n",
            "\n",
            "CROWD: N-no, you did marry me!\n",
            "\n",
            "CROWD: N-no, you did marry me!\n",
            "\n",
            "CROWD: N-no, you did marry me!\n",
            "\n",
            "CROWD: N-no, you did marry me!\n",
            "\n",
            "CROWD: N-no, you did marry me!\n",
            "\n",
            "CROWD: N-no, you did marry me!\n",
            "\n",
            "CROWD: N-no, you did marry me!\n",
            "\n",
            "CROWD: N-no, you did marry me!\n",
            "\n",
            "CROWD: N-no, you did marry me!\n",
            "\n",
            "CROWD: N-no, you did marry\n",
            "====================\n",
            "LORD, SUSAN, AND CULLEN.\n",
            "\n",
            "CULLEN.\n",
            "\n",
            "Good morning sir,\n",
            "\n",
            "CHAMBERTO.\n",
            "\n",
            "Good day sir.\n",
            "\n",
            "CULLEN.\n",
            "\n",
            "Good morning sir.\n",
            "\n",
            "CHAMBERTO.\n",
            "\n",
            "Good morning sir,\n",
            "\n",
            "CHAMBERTO.\n",
            "\n",
            "Good day sir.\n",
            "\n",
            "CHAMBERT.\n",
            "\n",
            "Good morning sir,\n",
            "\n",
            "CHAMBERTO.\n",
            "\n",
            "Good day sir.\n",
            "\n",
            "CHAMBERTO.\n",
            "\n",
            "Good day sir.\n",
            "\n",
            "CHAMBERTO.\n",
            "\n",
            "Good day sir.\n",
            "\n",
            "CHAMBERTO.\n",
            "\n",
            "Good day sir.\n",
            "\n",
            "CHAMBERTO.\n",
            "\n",
            "Good day sir.\n",
            "\n",
            "CULLEN.\n",
            "\n",
            "Good morning sir,\n",
            "\n",
            "CHAMBERTO.\n",
            "\n",
            "Good morning sir,\n",
            "\n",
            "CHAMBERTO.\n",
            "\n",
            "Good morning sir.\n",
            "\n",
            "CHAMBERTO.\n",
            "\n",
            "Good morning sir.\n",
            "\n",
            "CULLEN.\n",
            "\n",
            "Good morning sir,\n",
            "\n",
            "CHAMBERTO.\n",
            "\n",
            "Good morning sir.\n",
            "\n",
            "CHAMBERTO.\n",
            "\n",
            "Good morning sir.\n",
            "\n",
            "CHAMBERTO.\n",
            "\n",
            "Good\n",
            "====================\n"
          ]
        }
      ],
      "source": [
        "gpt2.generate(sess,\n",
        "              length=250,\n",
        "              temperature=0.7,\n",
        "              prefix=\"LORD\",\n",
        "              nsamples=5,\n",
        "              batch_size=5\n",
        "              )"
      ]
    },
    {
      "cell_type": "code",
      "execution_count": 15,
      "metadata": {
        "id": "GZT9d30Edtvr"
      },
      "outputs": [],
      "source": [
        "gen_file = 'gpt2_gentext_{:%Y%m%d_%H%M%S}.txt'.format(datetime.utcnow())\n",
        "\n",
        "gpt2.generate_to_file(sess,\n",
        "                      destination_path=gen_file,\n",
        "                      length=500,\n",
        "                      temperature=0.7,\n",
        "                      nsamples=100,\n",
        "                      batch_size=20\n",
        "                      )"
      ]
    },
    {
      "cell_type": "code",
      "execution_count": 16,
      "metadata": {
        "id": "tKsiTEh95HcG",
        "colab": {
          "base_uri": "https://localhost:8080/",
          "height": 17
        },
        "outputId": "2f8b8786-52f2-47af-873f-e0c10d8dd0ee"
      },
      "outputs": [
        {
          "output_type": "display_data",
          "data": {
            "text/plain": [
              "<IPython.core.display.Javascript object>"
            ],
            "application/javascript": [
              "\n",
              "    async function download(id, filename, size) {\n",
              "      if (!google.colab.kernel.accessAllowed) {\n",
              "        return;\n",
              "      }\n",
              "      const div = document.createElement('div');\n",
              "      const label = document.createElement('label');\n",
              "      label.textContent = `Downloading \"${filename}\": `;\n",
              "      div.appendChild(label);\n",
              "      const progress = document.createElement('progress');\n",
              "      progress.max = size;\n",
              "      div.appendChild(progress);\n",
              "      document.body.appendChild(div);\n",
              "\n",
              "      const buffers = [];\n",
              "      let downloaded = 0;\n",
              "\n",
              "      const channel = await google.colab.kernel.comms.open(id);\n",
              "      // Send a message to notify the kernel that we're ready.\n",
              "      channel.send({})\n",
              "\n",
              "      for await (const message of channel.messages) {\n",
              "        // Send a message to notify the kernel that we're ready.\n",
              "        channel.send({})\n",
              "        if (message.buffers) {\n",
              "          for (const buffer of message.buffers) {\n",
              "            buffers.push(buffer);\n",
              "            downloaded += buffer.byteLength;\n",
              "            progress.value = downloaded;\n",
              "          }\n",
              "        }\n",
              "      }\n",
              "      const blob = new Blob(buffers, {type: 'application/binary'});\n",
              "      const a = document.createElement('a');\n",
              "      a.href = window.URL.createObjectURL(blob);\n",
              "      a.download = filename;\n",
              "      div.appendChild(a);\n",
              "      a.click();\n",
              "      div.remove();\n",
              "    }\n",
              "  "
            ]
          },
          "metadata": {}
        },
        {
          "output_type": "display_data",
          "data": {
            "text/plain": [
              "<IPython.core.display.Javascript object>"
            ],
            "application/javascript": [
              "download(\"download_cde7c131-a7f1-4e41-8bb2-e32ffb1288df\", \"gpt2_gentext_20220624_124542.txt\", 196999)"
            ]
          },
          "metadata": {}
        }
      ],
      "source": [
        "# may have to run twice to get file to download\n",
        "files.download(gen_file)"
      ]
    },
    {
      "cell_type": "code",
      "execution_count": 17,
      "metadata": {
        "id": "RjBo8WHy5HfA",
        "colab": {
          "base_uri": "https://localhost:8080/",
          "height": 36
        },
        "outputId": "1936053b-0735-4f8b-c32d-f1f5c7c2338f"
      },
      "outputs": [
        {
          "output_type": "execute_result",
          "data": {
            "text/plain": [
              "'gpt2_gentext_20220624_124542.txt'"
            ],
            "application/vnd.google.colaboratory.intrinsic+json": {
              "type": "string"
            }
          },
          "metadata": {},
          "execution_count": 17
        }
      ],
      "source": [
        "gen_file"
      ]
    }
  ],
  "metadata": {
    "colab": {
      "collapsed_sections": [],
      "name": "Simple GPT-2 Application.ipynb",
      "provenance": [],
      "machine_shape": "hm"
    },
    "kernelspec": {
      "display_name": "Python 3",
      "name": "python3"
    },
    "language_info": {
      "name": "python"
    },
    "accelerator": "TPU",
    "gpuClass": "standard"
  },
  "nbformat": 4,
  "nbformat_minor": 0
}