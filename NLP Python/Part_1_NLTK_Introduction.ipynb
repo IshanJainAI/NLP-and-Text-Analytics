{
  "nbformat": 4,
  "nbformat_minor": 0,
  "metadata": {
    "colab": {
      "name": "Part 1 - NLTK Introduction.ipynb",
      "provenance": [],
      "collapsed_sections": []
    },
    "kernelspec": {
      "name": "python3",
      "display_name": "Python 3"
    },
    "language_info": {
      "name": "python"
    }
  },
  "cells": [
    {
      "cell_type": "markdown",
      "metadata": {
        "id": "u9mlGw1zBT21"
      },
      "source": [
        "**Python NLTK Natural Language Tool Kit**\n"
      ]
    },
    {
      "cell_type": "markdown",
      "metadata": {
        "id": "hrYOvHZ1umqV"
      },
      "source": [
        "1. Exploring the NLTK corpus\n",
        "2. Dictionary definitions\n",
        "3. Punctuation and stop words\n",
        "4. Stemming and lemmatization\n",
        "5. Sentence and word tokenizers\n",
        "6. Parts of speech tagging\n",
        "7. word2vec\n",
        "8. Clustering and classifying\n"
      ]
    },
    {
      "cell_type": "code",
      "metadata": {
        "id": "qzEJSVCBs3WK"
      },
      "source": [
        "import nltk  \n",
        "nltk.download('book')\n",
        "nltk.download('gutenberg')\n",
        "nltk.download('genesis')"
      ],
      "execution_count": null,
      "outputs": []
    },
    {
      "cell_type": "code",
      "metadata": {
        "id": "pBNJPh0MwlFz"
      },
      "source": [
        "from nltk.book import *"
      ],
      "execution_count": null,
      "outputs": []
    },
    {
      "cell_type": "code",
      "metadata": {
        "colab": {
          "base_uri": "https://localhost:8080/"
        },
        "id": "vQN8PFZKycDc",
        "outputId": "5b2cc539-e4cb-42b3-cff4-625af31e6eed"
      },
      "source": [
        "texts()"
      ],
      "execution_count": null,
      "outputs": [
        {
          "output_type": "stream",
          "name": "stdout",
          "text": [
            "text1: Moby Dick by Herman Melville 1851\n",
            "text2: Sense and Sensibility by Jane Austen 1811\n",
            "text3: The Book of Genesis\n",
            "text4: Inaugural Address Corpus\n",
            "text5: Chat Corpus\n",
            "text6: Monty Python and the Holy Grail\n",
            "text7: Wall Street Journal\n",
            "text8: Personals Corpus\n",
            "text9: The Man Who Was Thursday by G . K . Chesterton 1908\n"
          ]
        }
      ]
    },
    {
      "cell_type": "code",
      "metadata": {
        "colab": {
          "base_uri": "https://localhost:8080/"
        },
        "id": "FJZZQs2ryd1M",
        "outputId": "519096e5-b5b5-46e6-a386-2edead9e2555"
      },
      "source": [
        "sents()"
      ],
      "execution_count": null,
      "outputs": [
        {
          "output_type": "stream",
          "name": "stdout",
          "text": [
            "sent1: Call me Ishmael .\n",
            "sent2: The family of Dashwood had long been settled in Sussex .\n",
            "sent3: In the beginning God created the heaven and the earth .\n",
            "sent4: Fellow - Citizens of the Senate and of the House of Representatives :\n",
            "sent5: I have a problem with people PMing me to lol JOIN\n",
            "sent6: SCENE 1 : [ wind ] [ clop clop clop ] KING ARTHUR : Whoa there !\n",
            "sent7: Pierre Vinken , 61 years old , will join the board as a nonexecutive director Nov. 29 .\n",
            "sent8: 25 SEXY MALE , seeks attrac older single lady , for discreet encounters .\n",
            "sent9: THE suburb of Saffron Park lay on the sunset side of London , as red and ragged as a cloud of sunset .\n"
          ]
        }
      ]
    },
    {
      "cell_type": "code",
      "metadata": {
        "colab": {
          "base_uri": "https://localhost:8080/"
        },
        "id": "SCBMXSL_w5kq",
        "outputId": "d748d3a2-f0a1-4189-a70e-ea8096664875"
      },
      "source": [
        "print(type(text1))\n",
        "print(len(text1))\n",
        "print(len(set(text1)))\n",
        "print(text1[:12])"
      ],
      "execution_count": null,
      "outputs": [
        {
          "output_type": "stream",
          "name": "stdout",
          "text": [
            "<class 'nltk.text.Text'>\n",
            "260819\n",
            "19317\n",
            "['[', 'Moby', 'Dick', 'by', 'Herman', 'Melville', '1851', ']', 'ETYMOLOGY', '.', '(', 'Supplied']\n"
          ]
        }
      ]
    },
    {
      "cell_type": "code",
      "metadata": {
        "id": "EIplACads6xv",
        "colab": {
          "base_uri": "https://localhost:8080/"
        },
        "outputId": "3b22dfd8-1751-4cb5-b81a-7c8459d6a6e9"
      },
      "source": [
        "print(type(sent1))\n",
        "print(len(sent1))"
      ],
      "execution_count": null,
      "outputs": [
        {
          "output_type": "stream",
          "name": "stdout",
          "text": [
            "<class 'list'>\n",
            "4\n"
          ]
        }
      ]
    },
    {
      "cell_type": "code",
      "source": [
        "set(text1)"
      ],
      "metadata": {
        "id": "jBTXpJUyXQAY"
      },
      "execution_count": null,
      "outputs": []
    },
    {
      "cell_type": "code",
      "metadata": {
        "colab": {
          "base_uri": "https://localhost:8080/"
        },
        "id": "OCsWqt0cs63e",
        "outputId": "9d65e174-33de-4f7a-bc64-4a79bfaa3f3b"
      },
      "source": [
        "from nltk.corpus import gutenberg\n",
        "print(gutenberg.fileids())\n",
        "\n",
        "hamlet = gutenberg.words('shakespeare-hamlet.txt')\n",
        "print(len(hamlet))\n",
        "\n",
        "hamlet_sentences = gutenberg.sents('shakespeare-hamlet.txt')\n",
        "print(len(hamlet_sentences))\n",
        "\n",
        "print(hamlet_sentences[1024])\n",
        "\n",
        "print(len(gutenberg.paras('shakespeare-hamlet.txt')))"
      ],
      "execution_count": null,
      "outputs": [
        {
          "output_type": "stream",
          "name": "stdout",
          "text": [
            "['austen-emma.txt', 'austen-persuasion.txt', 'austen-sense.txt', 'bible-kjv.txt', 'blake-poems.txt', 'bryant-stories.txt', 'burgess-busterbrown.txt', 'carroll-alice.txt', 'chesterton-ball.txt', 'chesterton-brown.txt', 'chesterton-thursday.txt', 'edgeworth-parents.txt', 'melville-moby_dick.txt', 'milton-paradise.txt', 'shakespeare-caesar.txt', 'shakespeare-hamlet.txt', 'shakespeare-macbeth.txt', 'whitman-leaves.txt']\n",
            "37360\n",
            "3106\n",
            "['What', 'say', 'you', '?']\n",
            "950\n"
          ]
        }
      ]
    },
    {
      "cell_type": "code",
      "metadata": {
        "colab": {
          "base_uri": "https://localhost:8080/"
        },
        "id": "NiKEIguq0suD",
        "outputId": "be5ca25b-21f3-464a-8969-74f008e301ce"
      },
      "source": [
        " file1 = nltk.corpus.gutenberg.words('austen-persuasion.txt')\n",
        " print(file1[0:10])"
      ],
      "execution_count": null,
      "outputs": [
        {
          "output_type": "stream",
          "name": "stdout",
          "text": [
            "['[', 'Persuasion', 'by', 'Jane', 'Austen', '1818', ']', 'Chapter', '1', 'Sir']\n"
          ]
        }
      ]
    },
    {
      "cell_type": "markdown",
      "metadata": {
        "id": "GDgWrMFr1MIC"
      },
      "source": [
        "Get the count of a word in a document, or the context of every occurence of a word in a document"
      ]
    },
    {
      "cell_type": "code",
      "metadata": {
        "colab": {
          "base_uri": "https://localhost:8080/"
        },
        "id": "vFnbN2lSs641",
        "outputId": "919ceb61-3357-4553-c407-7811c485c07e"
      },
      "source": [
        "print(text1.count('horse')) # count a specific word\n",
        "print(text1.concordance('passion')) # NLTK concordance Index keeps track of the keyword index in the passage/text and retrieve the surrounding words.\n",
        "print(text2.concordance('passion'))"
      ],
      "execution_count": null,
      "outputs": [
        {
          "output_type": "stream",
          "name": "stdout",
          "text": [
            "26\n",
            "Displaying 7 of 7 matches:\n",
            "r him ,\" said I , now flying into a passion again at this unaccountable farrago\n",
            " employed in the celebration of the Passion of our Lord ; though in the Vision \n",
            "ce all mortal interests to that one passion ; nevertheless it may have been tha\n",
            "ing with the wildness of his ruling passion , yet were by no means incapable of\n",
            "it , however promissory of life and passion in the end , it is above all things\n",
            "o ' s lordly chest . So have I seen Passion and Vanity stamping the living magn\n",
            " Guernseyman , flying into a sudden passion . \" Oh ! keep cool -- cool ? yes , \n",
            "None\n",
            "Displaying 5 of 5 matches:\n",
            "one ,\" said Elinor , \" who has your passion for dead leaves .\" \" No ; my feelin\n",
            "r daughters , without extending the passion to her ; and Elinor had the satisfa\n",
            "r , if he was to be in the greatest passion !-- and Mr . Donavan thinks just th\n",
            "edness I could have borne , but her passion -- her malice -- At all events it m\n",
            "ling a sacrifice to an irresistible passion , as once she had fondly flattered \n",
            "None\n"
          ]
        }
      ]
    },
    {
      "cell_type": "markdown",
      "metadata": {
        "id": "cA0guUDu1-FP"
      },
      "source": [
        "FreqDist and most_common\n",
        "\n",
        "We can use FreqDist to find the number of occurrences of each word in the text.\n",
        "By getting len(vocab) we get the number of unique words in the text (including punctuation).\n",
        "\n",
        "And we can get the most common words easily too."
      ]
    },
    {
      "cell_type": "code",
      "metadata": {
        "colab": {
          "base_uri": "https://localhost:8080/"
        },
        "id": "AoBxcV-R1OW1",
        "outputId": "5800d029-b357-4f04-e06e-df9320ee0ee9"
      },
      "source": [
        "vocab = nltk.FreqDist(text1)\n",
        "print(len(vocab))\n",
        "print(vocab.most_common(20))\n"
      ],
      "execution_count": null,
      "outputs": [
        {
          "output_type": "stream",
          "name": "stdout",
          "text": [
            "19317\n",
            "[(',', 18713), ('the', 13721), ('.', 6862), ('of', 6536), ('and', 6024), ('a', 4569), ('to', 4542), (';', 4072), ('in', 3916), ('that', 2982), (\"'\", 2684), ('-', 2552), ('his', 2459), ('it', 2209), ('I', 2124), ('s', 1739), ('is', 1695), ('he', 1661), ('with', 1659), ('was', 1632)]\n"
          ]
        }
      ]
    },
    {
      "cell_type": "code",
      "metadata": {
        "colab": {
          "base_uri": "https://localhost:8080/",
          "height": 36
        },
        "id": "WG9_45jl3G-U",
        "outputId": "d6ada6d7-8bb4-472c-b1c7-9c4097e84ed3"
      },
      "source": [
        "w = vocab.most_common(20)\n",
        "w[0][0]"
      ],
      "execution_count": null,
      "outputs": [
        {
          "output_type": "execute_result",
          "data": {
            "text/plain": [
              "','"
            ],
            "application/vnd.google.colaboratory.intrinsic+json": {
              "type": "string"
            }
          },
          "metadata": {},
          "execution_count": 14
        }
      ]
    },
    {
      "cell_type": "markdown",
      "metadata": {
        "id": "iVcXf46m2h5U"
      },
      "source": [
        "\n",
        "Here we got the 80 most common words, filtered only the ones with at least 3 characters, then sorted them descending by number of occurences.\n",
        "\n",
        "A better way is to first remove all the stop words (see below), then get the FreqDist."
      ]
    },
    {
      "cell_type": "code",
      "metadata": {
        "colab": {
          "base_uri": "https://localhost:8080/"
        },
        "id": "_1QvIyL21Obg",
        "outputId": "96420e21-a99c-4e2a-b683-57416ffb0d0d"
      },
      "source": [
        "mc = sorted([w for w in vocab.most_common(80) if len(w[0]) > 3], key=lambda x: x[1], reverse=True)\n",
        "# The sorted() function returns a sorted list of the specified iterable object.You can specify ascending or descending order. Strings are sorted alphabetically, and numbers are sorted numerically.\n",
        "print(mc)"
      ],
      "execution_count": null,
      "outputs": [
        {
          "output_type": "stream",
          "name": "stdout",
          "text": [
            "[('that', 2982), ('with', 1659), ('this', 1280), ('from', 1052), ('whale', 906), ('have', 760), ('there', 715), ('were', 680), ('which', 640), ('like', 624), ('their', 612), ('they', 586), ('some', 578), ('then', 571), ('when', 553), ('upon', 538), ('into', 520), ('ship', 507), ('more', 501), ('Ahab', 501), ('them', 471), ('what', 442), ('would', 421), ('been', 415), ('other', 412), ('over', 403)]\n"
          ]
        }
      ]
    },
    {
      "cell_type": "markdown",
      "metadata": {
        "id": "NpdLz-wl352Z"
      },
      "source": [
        "A dispersion plot shows you where in the document a word is used. You can pass in a list of words."
      ]
    },
    {
      "cell_type": "code",
      "metadata": {
        "colab": {
          "base_uri": "https://localhost:8080/",
          "height": 295
        },
        "id": "mi8DffQF1OeV",
        "outputId": "09e1eedb-a770-4a67-ee46-79a902ad3e33"
      },
      "source": [
        "text1.dispersion_plot(['capture', 'whale', 'life', 'death', 'kill'])"
      ],
      "execution_count": null,
      "outputs": [
        {
          "output_type": "display_data",
          "data": {
            "text/plain": [
              "<Figure size 432x288 with 1 Axes>"
            ],
            "image/png": "[encoded data removed]"
          },
          "metadata": {
            "needs_background": "light"
          }
        }
      ]
    },
    {
      "cell_type": "markdown",
      "metadata": {
        "id": "YH9bL4hR4T8W"
      },
      "source": [
        "Dictionary definitions\n",
        "\n",
        "Use wordnet synsets to get word definitions and examples of usage.\n",
        "The [0] is required because synsets returns a list, with an entry for each Part of Speech (POS)."
      ]
    },
    {
      "cell_type": "code",
      "metadata": {
        "colab": {
          "base_uri": "https://localhost:8080/"
        },
        "id": "I_Kj6NwK3WB8",
        "outputId": "fdb6b4d9-7eee-46ef-c9e8-0d16297e9620"
      },
      "source": [
        "import nltk\n",
        "nltk.download('omw-1.4')\n",
        "from nltk.corpus import wordnet as wn\n",
        "w = wn.synsets(\"love\")[0]\n",
        "print(w.name(), '-', w.definition())\n",
        "print(w.examples())"
      ],
      "execution_count": null,
      "outputs": [
        {
          "output_type": "stream",
          "name": "stderr",
          "text": [
            "[nltk_data] Downloading package omw-1.4 to /root/nltk_data...\n",
            "[nltk_data]   Unzipping corpora/omw-1.4.zip.\n"
          ]
        },
        {
          "output_type": "stream",
          "name": "stdout",
          "text": [
            "love.n.01 - a strong positive emotion of regard and affection\n",
            "['his love for his work', 'children need a lot of love']\n"
          ]
        }
      ]
    },
    {
      "cell_type": "code",
      "metadata": {
        "colab": {
          "base_uri": "https://localhost:8080/"
        },
        "id": "O_HayICn3WFI",
        "outputId": "c34bd931-af9b-4cd0-bc81-1282e0e6ade7"
      },
      "source": [
        "w = wn.synsets(\"love\")\n",
        "w"
      ],
      "execution_count": null,
      "outputs": [
        {
          "output_type": "execute_result",
          "data": {
            "text/plain": [
              "[Synset('love.n.01'),\n",
              " Synset('love.n.02'),\n",
              " Synset('beloved.n.01'),\n",
              " Synset('love.n.04'),\n",
              " Synset('love.n.05'),\n",
              " Synset('sexual_love.n.02'),\n",
              " Synset('love.v.01'),\n",
              " Synset('love.v.02'),\n",
              " Synset('love.v.03'),\n",
              " Synset('sleep_together.v.01')]"
            ]
          },
          "metadata": {},
          "execution_count": 19
        }
      ]
    },
    {
      "cell_type": "markdown",
      "metadata": {
        "id": "aiWbwskV536w"
      },
      "source": [
        "Punctuation and Stop Words\n",
        "\n",
        "Text analysis is often faster and easier if you can remove useless words.\n",
        "NLTK provides a list of these stop words so it's easy to filter them out of your text prior to processing.\n",
        "\n",
        "Here, 15% of our text is punctuation, and 40% is stop words. So we shrink the text by more than half by stripping out punctuation and stop words."
      ]
    },
    {
      "cell_type": "code",
      "metadata": {
        "colab": {
          "base_uri": "https://localhost:8080/"
        },
        "id": "X0cf9Qvb3WH7",
        "outputId": "16a5a9c9-0760-458b-843c-a7f386d272a0"
      },
      "source": [
        "from string import punctuation\n",
        "print(punctuation)\n",
        "without_punct = [w for w in text1 if w not in punctuation]  # this is called a list comprehension\n",
        "\n",
        "from nltk.corpus import stopwords\n",
        "sw = stopwords.words('english')\n",
        "print(sw)\n",
        "\n",
        "without_sw = [w for w in without_punct if w not in sw] \n",
        "\n",
        "print(len(text1))\n",
        "print(len(without_punct))\n",
        "print(len(without_sw))"
      ],
      "execution_count": null,
      "outputs": [
        {
          "output_type": "stream",
          "name": "stdout",
          "text": [
            "!\"#$%&'()*+,-./:;<=>?@[\\]^_`{|}~\n",
            "['i', 'me', 'my', 'myself', 'we', 'our', 'ours', 'ourselves', 'you', \"you're\", \"you've\", \"you'll\", \"you'd\", 'your', 'yours', 'yourself', 'yourselves', 'he', 'him', 'his', 'himself', 'she', \"she's\", 'her', 'hers', 'herself', 'it', \"it's\", 'its', 'itself', 'they', 'them', 'their', 'theirs', 'themselves', 'what', 'which', 'who', 'whom', 'this', 'that', \"that'll\", 'these', 'those', 'am', 'is', 'are', 'was', 'were', 'be', 'been', 'being', 'have', 'has', 'had', 'having', 'do', 'does', 'did', 'doing', 'a', 'an', 'the', 'and', 'but', 'if', 'or', 'because', 'as', 'until', 'while', 'of', 'at', 'by', 'for', 'with', 'about', 'against', 'between', 'into', 'through', 'during', 'before', 'after', 'above', 'below', 'to', 'from', 'up', 'down', 'in', 'out', 'on', 'off', 'over', 'under', 'again', 'further', 'then', 'once', 'here', 'there', 'when', 'where', 'why', 'how', 'all', 'any', 'both', 'each', 'few', 'more', 'most', 'other', 'some', 'such', 'no', 'nor', 'not', 'only', 'own', 'same', 'so', 'than', 'too', 'very', 's', 't', 'can', 'will', 'just', 'don', \"don't\", 'should', \"should've\", 'now', 'd', 'll', 'm', 'o', 're', 've', 'y', 'ain', 'aren', \"aren't\", 'couldn', \"couldn't\", 'didn', \"didn't\", 'doesn', \"doesn't\", 'hadn', \"hadn't\", 'hasn', \"hasn't\", 'haven', \"haven't\", 'isn', \"isn't\", 'ma', 'mightn', \"mightn't\", 'mustn', \"mustn't\", 'needn', \"needn't\", 'shan', \"shan't\", 'shouldn', \"shouldn't\", 'wasn', \"wasn't\", 'weren', \"weren't\", 'won', \"won't\", 'wouldn', \"wouldn't\"]\n",
            "260819\n",
            "221767\n",
            "122226\n"
          ]
        }
      ]
    },
    {
      "cell_type": "markdown",
      "metadata": {
        "id": "tsnWUGMB652O"
      },
      "source": [
        "Stemming and Lemmatization\n",
        "\n",
        "These term normalization algorithms strip the word endings off to reduce the number of root words for easier matching.\n",
        "\n",
        "This is useful for search term matching. \n",
        "https://www.nltk.org/api/nltk.stem.html\n"
      ]
    },
    {
      "cell_type": "code",
      "metadata": {
        "colab": {
          "base_uri": "https://localhost:8080/"
        },
        "id": "KGMR0c9Y3WKD",
        "outputId": "7716e8e5-07be-40ca-bec2-ed4fecd16a0a"
      },
      "source": [
        "from nltk.stem.porter import PorterStemmer\n",
        "st = PorterStemmer()\n",
        "\n",
        "words = ['is', 'are', 'bought', 'buys', 'giving', 'jumps', 'jumped', 'birds', 'do', 'does', 'did', 'doing']\n",
        "for word in words:\n",
        "    print(word, st.stem(word))"
      ],
      "execution_count": null,
      "outputs": [
        {
          "output_type": "stream",
          "name": "stdout",
          "text": [
            "is is\n",
            "are are\n",
            "bought bought\n",
            "buys buy\n",
            "giving give\n",
            "jumps jump\n",
            "jumped jump\n",
            "birds bird\n",
            "do do\n",
            "does doe\n",
            "did did\n",
            "doing do\n"
          ]
        }
      ]
    },
    {
      "cell_type": "markdown",
      "metadata": {
        "id": "MnI1oQ037tLn"
      },
      "source": [
        "WordNet Lemmatizer\n",
        "\n",
        "The difference is that the result of stemming may not be an actual word, but lemmatization returns the root word. NLTK supports both.\n",
        "\n",
        "You can also try the Lancaster or Snowball stemmers. The Snowball stemmer supports numerous languages: Arabic, Danish, Dutch, English, Finnish, French, German, Hungarian, Italian, Norwegian, Portuguese, Romanian, Russian, Spanish and Swedish."
      ]
    },
    {
      "cell_type": "code",
      "metadata": {
        "colab": {
          "base_uri": "https://localhost:8080/"
        },
        "id": "ePyKJCpY7RLR",
        "outputId": "9717946f-f949-493e-afae-b394256b357a"
      },
      "source": [
        "from nltk.stem import WordNetLemmatizer\n",
        "wnl = WordNetLemmatizer()\n",
        "\n",
        "words = ['is', 'are', 'bought', 'buys', 'giving', 'jumps', 'jumped', 'birds', 'do', 'does', 'did', 'doing']\n",
        "\n",
        "for word in words:\n",
        "    print(word, wnl.lemmatize(word))"
      ],
      "execution_count": null,
      "outputs": [
        {
          "output_type": "stream",
          "name": "stdout",
          "text": [
            "is is\n",
            "are are\n",
            "bought bought\n",
            "buys buy\n",
            "giving giving\n",
            "jumps jump\n",
            "jumped jumped\n",
            "birds bird\n",
            "do do\n",
            "does doe\n",
            "did did\n",
            "doing doing\n"
          ]
        }
      ]
    },
    {
      "cell_type": "markdown",
      "metadata": {
        "id": "sbEYO6St790x"
      },
      "source": [
        "Sentence and Word Tokenizers\n",
        "\n",
        "Sentence tokenizer breaks text down into a list of sentences. It's pretty good at handling punctuation and decimal numbers.\n",
        "Word tokenizer breaks a string down into a list of words and punctuation.\n",
        "\n",
        "It is also easy to get parts of speech using nltk.pos_tag. There are different tagsets, depending on how much detail you want. I like universal."
      ]
    },
    {
      "cell_type": "code",
      "metadata": {
        "colab": {
          "base_uri": "https://localhost:8080/"
        },
        "id": "aU3wEdzv7RNg",
        "outputId": "6a549d9c-8d97-4b30-ba92-80ff1cb4538a"
      },
      "source": [
        "from nltk.tokenize import sent_tokenize, word_tokenize\n",
        "\n",
        "s = 'Hello. I am Joe! I like Python. 263.5 is a big number.'  # 4 sentences\n",
        "\n",
        "print(sent_tokenize(s))\n",
        "\n",
        "w = word_tokenize('The quick brown fox jumps over the lazy dog.')\n",
        "print(w)"
      ],
      "execution_count": null,
      "outputs": [
        {
          "output_type": "stream",
          "name": "stdout",
          "text": [
            "['Hello.', 'I am Joe!', 'I like Python.', '263.5 is a big number.']\n",
            "['The', 'quick', 'brown', 'fox', 'jumps', 'over', 'the', 'lazy', 'dog', '.']\n"
          ]
        }
      ]
    },
    {
      "cell_type": "markdown",
      "metadata": {
        "id": "49hb98FK8Ybj"
      },
      "source": [
        "Parts of Speech Tagging\n",
        "\n",
        "To break a block of text down into its parts of speech use pos_tag.\n",
        "The default tagset uses 2 or 3 letter tokens that are hard for me to understand. StackOverflow has a great decoder for the default POS tags.\n",
        "\n",
        "The Universal tagset gives a more familiar looking tag (noun, verb, adj).\n",
        "NLTK includes several other tagsets you can try."
      ]
    },
    {
      "cell_type": "code",
      "metadata": {
        "colab": {
          "base_uri": "https://localhost:8080/"
        },
        "id": "eyDBeG4i7RP8",
        "outputId": "4ad37ae1-a399-43ee-e9da-4f4cc78cd5f2"
      },
      "source": [
        "w = word_tokenize('The quick brown fox jumps over the lazy dog.')\n",
        "\n",
        "print(w)\n",
        "print(nltk.pos_tag(w))\n",
        "print(nltk.pos_tag(w, tagset='universal'))"
      ],
      "execution_count": null,
      "outputs": [
        {
          "output_type": "stream",
          "name": "stdout",
          "text": [
            "['The', 'quick', 'brown', 'fox', 'jumps', 'over', 'the', 'lazy', 'dog', '.']\n",
            "[('The', 'DT'), ('quick', 'JJ'), ('brown', 'NN'), ('fox', 'NN'), ('jumps', 'VBZ'), ('over', 'IN'), ('the', 'DT'), ('lazy', 'JJ'), ('dog', 'NN'), ('.', '.')]\n",
            "[('The', 'DET'), ('quick', 'ADJ'), ('brown', 'NOUN'), ('fox', 'NOUN'), ('jumps', 'VERB'), ('over', 'ADP'), ('the', 'DET'), ('lazy', 'ADJ'), ('dog', 'NOUN'), ('.', '.')]\n"
          ]
        }
      ]
    },
    {
      "cell_type": "markdown",
      "metadata": {
        "id": "j6NY7-Ru9Ro2"
      },
      "source": [
        "**Word2Vec**\n",
        "\n",
        "Word2Vec uses neural networks to analyze words in a corpus by using the contexts of words. It takes as its input a large corpus of text, and maps unique words to a vector space, such that words that share common contexts in the corpus are located in close proximity to one another in the space.\n",
        "\n",
        "Word2Vec does NOT look at word meanings, it only finds words that are used in combination with other words. So frying and pan may have a high similarity.\n",
        "\n",
        "You can see here the context of one word (pain) for two different corpora.\n",
        "\n",
        "This uses the popular gensim library, which is not part of NLTK."
      ]
    },
    {
      "cell_type": "code",
      "metadata": {
        "colab": {
          "base_uri": "https://localhost:8080/"
        },
        "id": "VfKNv90A7RSm",
        "outputId": "a8940957-6450-4e11-a2e6-3368e002a7bc"
      },
      "source": [
        "from gensim.models import Word2Vec\n",
        "\n",
        "emma_vec = Word2Vec(gutenberg.sents('austen-emma.txt'))\n",
        "leaves_vec = Word2Vec(gutenberg.sents('whitman-leaves.txt'))\n",
        "\n",
        "print(emma_vec.wv.most_similar('love', topn=6))\n",
        "print(leaves_vec.wv.most_similar('pain', topn=6))"
      ],
      "execution_count": null,
      "outputs": [
        {
          "output_type": "stream",
          "name": "stdout",
          "text": [
            "[('natural', 0.9983057975769043), ('pleasant', 0.9981988668441772), ('strong', 0.9978015422821045), ('pleasing', 0.9977486729621887), ('ago', 0.997719407081604), ('exactly', 0.9974443912506104)]\n",
            "[('forever', 0.998204231262207), ('moment', 0.9981893301010132), ('ready', 0.9981735348701477), ('without', 0.9981714487075806), ('comes', 0.998169481754303), ('Now', 0.9981652498245239)]\n"
          ]
        }
      ]
    },
    {
      "cell_type": "code",
      "metadata": {
        "colab": {
          "base_uri": "https://localhost:8080/"
        },
        "id": "nNk1zNRz7RWJ",
        "outputId": "4aa6c7ba-08af-444d-99b3-085ca46ed04a"
      },
      "source": [
        "from gensim.models import Word2Vec\n",
        "from nltk.corpus import stopwords\n",
        "from string import punctuation\n",
        "import pprint as pp\n",
        "\n",
        "bible_sents = gutenberg.sents('bible-kjv.txt')\n",
        "sw = stopwords.words('english')\n",
        "\n",
        "bible = [[w.lower() for w in s if w not in punctuation and w not in sw] for s in bible_sents]\n",
        "print(len(bible))\n",
        "\n",
        "bible_vec = Word2Vec(bible)\n",
        "\n",
        "pp.pprint(bible_vec.wv.most_similar('god', topn=8))\n",
        "pp.pprint(bible_vec.wv.most_similar('creation', topn=5))"
      ],
      "execution_count": null,
      "outputs": [
        {
          "output_type": "stream",
          "name": "stdout",
          "text": [
            "30103\n",
            "[('mercy', 0.9294182062149048),\n",
            " ('liveth', 0.9248984456062317),\n",
            " ('grace', 0.9246912002563477),\n",
            " ('christ', 0.9123010635375977),\n",
            " ('hosts', 0.8991404175758362),\n",
            " ('truth', 0.8991243243217468),\n",
            " ('salvation', 0.8953806161880493),\n",
            " ('spoken', 0.8948251008987427)]\n",
            "[('obedience', 0.980457067489624),\n",
            " ('scriptures', 0.9733983278274536),\n",
            " ('reigneth', 0.9712979793548584),\n",
            " ('impossible', 0.9712733626365662),\n",
            " ('sorry', 0.9709648489952087)]\n"
          ]
        }
      ]
    },
    {
      "cell_type": "markdown",
      "metadata": {
        "id": "gkJLjH5j-2DC"
      },
      "source": [
        "**k-Means Clustering**\n",
        "\n",
        "Clustering groups similar items together.\n",
        "The K-means clusterer starts with k arbitrarily chosen means (or centroids) then assigns each vector to the cluster with the closest mean. It then recalculates the means of each cluster as the centroid of its vector members. This process repeats until the cluster memberships stabilize. NLTK docs on this example.\n",
        "\n",
        "This example clusters int vectors, which you can think of as points on a plane. But you could also use clustering to cluster similar documents by vocabulary/topic."
      ]
    },
    {
      "cell_type": "code",
      "metadata": {
        "colab": {
          "base_uri": "https://localhost:8080/"
        },
        "id": "4N7lQaOG3WMh",
        "outputId": "c37f6725-a7c9-44f1-fbb0-e5629b1d74d4"
      },
      "source": [
        "import numpy as np\n",
        "from nltk.cluster import KMeansClusterer, euclidean_distance\n",
        "\n",
        "vectors = [np.array(f) for f in [[2, 1], [1, 3], [4, 7], [6, 7]]]\n",
        "means = [[4, 3], [5, 5]]\n",
        "\n",
        "km = KMeansClusterer(2, euclidean_distance, initial_means=means)\n",
        "clusters = km.cluster(vectors, True, trace=True)\n",
        "\n",
        "print('Clustered:', vectors)\n",
        "print('As:', clusters)\n",
        "print('Means:', km.means())"
      ],
      "execution_count": null,
      "outputs": [
        {
          "output_type": "stream",
          "name": "stdout",
          "text": [
            "k-means trial 0\n",
            "iteration\n",
            "iteration\n",
            "Clustered: [array([2, 1]), array([1, 3]), array([4, 7]), array([6, 7])]\n",
            "As: [0, 0, 1, 1]\n",
            "Means: [array([1.5, 2. ]), array([5., 7.])]\n"
          ]
        }
      ]
    },
    {
      "cell_type": "markdown",
      "metadata": {
        "id": "GdM613A1AU3Q"
      },
      "source": [
        "**k-Means Clustering, \n",
        "we cluster an array of 6 points into 2 clusters.\n",
        "The initial centroids are randomly chosen by the clusterer, and it does 10 iterations to regroup the clusters and recalculate centroids."
      ]
    },
    {
      "cell_type": "code",
      "metadata": {
        "colab": {
          "base_uri": "https://localhost:8080/"
        },
        "id": "LRcIP8kx-1OQ",
        "outputId": "a219616a-35eb-4d50-d0f9-c0eb0190e6ac"
      },
      "source": [
        "vectors = [np.array(f) for f in [[3, 3], [1, 2], [4, 2], [4, 0], [2, 3], [3, 1]]]\n",
        "\n",
        "# test k-means using 2 means, euclidean distance, and 10 trial clustering repetitions with random seeds\n",
        "clusterer = KMeansClusterer(2, euclidean_distance, repeats=10)\n",
        "clusters = clusterer.cluster(vectors, True)\n",
        "centroids = clusterer.means()\n",
        "print('Clustered:', vectors)\n",
        "print('As:', clusters)\n",
        "print('Means:', centroids)\n",
        "\n",
        "# classify a new vector\n",
        "vector = np.array([2,2])\n",
        "print('classify(%s):' % vector, end=' ')\n",
        "print(clusterer.classify(vector))"
      ],
      "execution_count": null,
      "outputs": [
        {
          "output_type": "stream",
          "name": "stdout",
          "text": [
            "Clustered: [array([3, 3]), array([1, 2]), array([4, 2]), array([4, 0]), array([2, 3]), array([3, 1])]\n",
            "As: [0, 0, 1, 1, 0, 1]\n",
            "Means: [array([2.        , 2.66666667]), array([3.66666667, 1.        ])]\n",
            "classify([2 2]): 0\n"
          ]
        }
      ]
    },
    {
      "cell_type": "markdown",
      "metadata": {
        "id": "tbuqHs9dAt96"
      },
      "source": [
        "\n",
        "\n",
        "Make a Scatter Plot of the two clusters using matplotlib.pyplot.\n",
        "We plot all the points in cluster-0 blue, and all the points in cluster-1 red. Then we plot the two centroids in orange."
      ]
    },
    {
      "cell_type": "code",
      "metadata": {
        "colab": {
          "base_uri": "https://localhost:8080/",
          "height": 265
        },
        "id": "U6u6B2I9-1Q3",
        "outputId": "24096974-8834-405e-9886-c18c86976cd9"
      },
      "source": [
        "import matplotlib.pyplot as plt\n",
        "\n",
        "x0 = np.array([x[0] for idx, x in enumerate(vectors) if clusters[idx]==0])\n",
        "y0 = np.array([x[1] for idx, x in enumerate(vectors) if clusters[idx]==0])\n",
        "plt.scatter(x0,y0, color='blue')\n",
        "\n",
        "x1 = np.array([x[0] for idx, x in enumerate(vectors) if clusters[idx]==1])\n",
        "y1 = np.array([x[1] for idx, x in enumerate(vectors) if clusters[idx]==1])\n",
        "plt.scatter(x1,y1, color='red')\n",
        "\n",
        "xc = np.array([x[0] for x in centroids])\n",
        "yc = np.array([x[1] for x in centroids])\n",
        "plt.scatter(xc,yc, color='orange')\n",
        "plt.show()"
      ],
      "execution_count": null,
      "outputs": [
        {
          "output_type": "display_data",
          "data": {
            "text/plain": [
              "<Figure size 432x288 with 1 Axes>"
            ],
            "image/png": "[encoded data removed]"
          },
          "metadata": {
            "needs_background": "light"
          }
        }
      ]
    },
    {
      "cell_type": "code",
      "metadata": {
        "id": "ciFNQLub3WPM"
      },
      "source": [
        ""
      ],
      "execution_count": null,
      "outputs": []
    },
    {
      "cell_type": "markdown",
      "metadata": {
        "id": "eBhFihPyBbsN"
      },
      "source": [
        "_____________"
      ]
    }
  ]
}